{
 "cells": [
  {
   "cell_type": "code",
   "execution_count": 1,
   "metadata": {},
   "outputs": [
    {
     "name": "stdout",
     "output_type": "stream",
     "text": [
      "Welcome to the Number Guessing Game!\n",
      "I've picked a number between 1 and 100. Try to guess it.\n",
      "Too low! Try a higher number.\n",
      "Too high! Try a lower number.\n",
      "Too low! Try a higher number.\n",
      "Too high! Try a lower number.\n",
      "Too high! Try a lower number.\n",
      "Too high! Try a lower number.\n",
      "Congratulations! You guessed the correct number 59 in 7 attempts.\n"
     ]
    }
   ],
   "source": [
    "\n",
    "#Create a number guessing game. Where you have to generate a random number in between 1 to 100 and user have to prompt a number for guess. if its high or low number let the user know and guide them through the process to guess correct number.\n",
    "import random\n",
    "\n",
    "def number_guessing_game():\n",
    "    target_number = random.randint(1, 100)\n",
    "    attempts = 0\n",
    "\n",
    "    print(\"Welcome to the Number Guessing Game!\")\n",
    "    print(\"I've picked a number between 1 and 100. Try to guess it.\")\n",
    "\n",
    "    while True:\n",
    "        user_guess = int(input(\"Enter your guess: \"))\n",
    "        attempts += 1\n",
    "\n",
    "        if user_guess < target_number:\n",
    "            print(\"Too low! Try a higher number.\")\n",
    "        elif user_guess > target_number:\n",
    "            print(\"Too high! Try a lower number.\")\n",
    "        else:\n",
    "            print(f\"Congratulations! You guessed the correct number {target_number} in {attempts} attempts.\")\n",
    "            break\n",
    "        \n",
    "number_guessing_game()\n"
   ]
  }
 ],
 "metadata": {
  "kernelspec": {
   "display_name": "Python 3",
   "language": "python",
   "name": "python3"
  },
  "language_info": {
   "codemirror_mode": {
    "name": "ipython",
    "version": 3
   },
   "file_extension": ".py",
   "mimetype": "text/x-python",
   "name": "python",
   "nbconvert_exporter": "python",
   "pygments_lexer": "ipython3",
   "version": "3.12.1"
  }
 },
 "nbformat": 4,
 "nbformat_minor": 2
}
